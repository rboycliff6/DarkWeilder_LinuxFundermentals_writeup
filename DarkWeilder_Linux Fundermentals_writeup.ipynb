{
 "cells": [
  {
   "cell_type": "markdown",
   "id": "d2640853-bd33-4f2f-b09c-08a234f87a96",
   "metadata": {},
   "source": [
    "# Linux Fundermentals Practiclals writeup:\n",
    "\n",
    "1. System Information\n",
    "2. Navigation\n",
    "3. Working with Files and Directories\n",
    "4. Find Files and Directories\n",
    "5. Find Descriptors and Redirections\n",
    "6. Filter Content\n",
    "7. User Management\n",
    "8. Service and Process Management\n",
    "9. Working with Web Services\n",
    "10. Isn't It easy 😌\n",
    "\n",
    "NOTE:\n",
    "--When searching a tool using man [man (tool)] you can filter results using grep. e.g man uname | grep 'hardware'\n",
    "--the 2>/dev/null command option is used to ignore terminal errors\n",
    "--they are many ways to kill a cat, so the below methodology is not the only one you could execute thus feel free to play around"
   ]
  },
  {
   "cell_type": "markdown",
   "id": "fccf6b3f-7ef0-4b2b-ac40-114e21c1f351",
   "metadata": {},
   "source": [
    "PRACTICAL 1"
   ]
  },
  {
   "cell_type": "code",
   "execution_count": null,
   "id": "d4801bd4-5d5c-4cd0-a304-8731710dbd38",
   "metadata": {},
   "outputs": [],
   "source": [
    "# Find out the machine hardware name and submit it as the answer\n",
    "\n",
    "#command used= uname\n",
    "#option= -m (machine hardware name)\n",
    "#full-command... \n",
    "uname -m\n",
    "\n",
    "#answer= x86_64"
   ]
  },
  {
   "cell_type": "code",
   "execution_count": null,
   "id": "bdf7eea8-695a-451e-aa4c-a66dd0e45288",
   "metadata": {},
   "outputs": [],
   "source": [
    "# What is the path to htb-student's home directory?\n",
    "\n",
    "#command used...\n",
    "pwd #(Parent Working Directory)\n",
    "\n",
    "#answer= /home/htb-student"
   ]
  },
  {
   "cell_type": "code",
   "execution_count": null,
   "id": "9b1fd77a-1ec2-47d9-bc72-dc4b257c6e5e",
   "metadata": {},
   "outputs": [],
   "source": [
    "# What is the path to the htb-student's mail?\n",
    "\n",
    "#command used= env (environment) && grep (filterer)\n",
    "#full-command...\n",
    "env | grep 'mail'\n",
    "\n",
    "#answer= /var/mail/htb-student"
   ]
  },
  {
   "cell_type": "code",
   "execution_count": null,
   "id": "f089fe8c-a1b8-4abb-8f48-1683e2989f14",
   "metadata": {},
   "outputs": [],
   "source": [
    "# Which shell is specified for the htb-student user? \n",
    "\n",
    "#command used= env (environment) && grep (filterer)\n",
    "#full-command...\n",
    "env | grep '$SHELL'\n",
    "\n",
    "#answer= /bin/bash"
   ]
  },
  {
   "cell_type": "code",
   "execution_count": null,
   "id": "5a261a4d-8458-4b7c-97bd-b66813be86c7",
   "metadata": {},
   "outputs": [],
   "source": [
    "# Which kernel version is installed on the system? (Format: 1.22.3)\n",
    "\n",
    "#command used= uname\n",
    "#option= -r\n",
    "#full-command...\n",
    "uname -r\n",
    "\n",
    "#answer= 4.15.0"
   ]
  },
  {
   "cell_type": "code",
   "execution_count": null,
   "id": "e6480afc-d6bb-486d-8750-04b07d0c0bb2",
   "metadata": {},
   "outputs": [],
   "source": [
    "# What is the name of the network interface that MTU is set to 1500?\n",
    "\n",
    "#command used...\n",
    "ip -a\n",
    "\n",
    "#answer: ens192"
   ]
  },
  {
   "cell_type": "markdown",
   "id": "6691e622-7fa6-4f2f-9181-eabfc37b118d",
   "metadata": {},
   "source": [
    "PRACTICAL 2"
   ]
  },
  {
   "cell_type": "code",
   "execution_count": null,
   "id": "f5276bf6-7963-4522-8704-2454c32bad68",
   "metadata": {},
   "outputs": [],
   "source": [
    "#  What is the name of the hidden \"history\" file in the htb-user's home directory?\n",
    "\n",
    "#command used...\n",
    "ls-la #or\n",
    "ls-a\n",
    "\n",
    "#answer= .bash_history"
   ]
  },
  {
   "cell_type": "code",
   "execution_count": null,
   "id": "a2d8a10f-d37e-4ad0-aa38-9702ee790534",
   "metadata": {},
   "outputs": [],
   "source": [
    "# What is the index number of the \"sudoers\" file in the \"/etc\" directory?\n",
    "\n",
    "#command used= ls\n",
    "#option= -i\n",
    "#full-command...\n",
    "ls -i /etc/sudoers #or\n",
    "#other command used...\n",
    "stat /etc/sudoers\n",
    "\n",
    "#answer= 147627\n"
   ]
  },
  {
   "cell_type": "markdown",
   "id": "1ff80a51-9e31-4435-bfaf-957d8a7bd296",
   "metadata": {},
   "source": [
    "PRACTICE 3"
   ]
  },
  {
   "cell_type": "code",
   "execution_count": null,
   "id": "fd2169ea-8c63-47bd-9006-4aa0a14b3cad",
   "metadata": {},
   "outputs": [],
   "source": [
    "# What is the name of the last modified file in the \"/var/backups\" directory?\n",
    "\n",
    "#command used= ls\n",
    "#option= -la [or] -t\n",
    "#full-command used...\n",
    "ls -la #or\n",
    "ls-t\n",
    "\n",
    "#answer= apt-extended_states.0"
   ]
  },
  {
   "cell_type": "code",
   "execution_count": null,
   "id": "3422858b-1213-4417-b8bb-8929777c58f3",
   "metadata": {},
   "outputs": [],
   "source": [
    "# What is the inode number of the \"shadow.bak\" file in the \"/var/backups\" directory?\n",
    "\n",
    "#command used= ls\n",
    "#option= -i\n",
    "#full-command...\n",
    "ls -i /var/backups/shadow.bak #or\n",
    "#other command used...\n",
    "stat /var/backups/shadow.bak"
   ]
  },
  {
   "cell_type": "markdown",
   "id": "7cba5f02-e40b-4c2f-9612-19e2372b69c7",
   "metadata": {},
   "source": [
    "Practice 4"
   ]
  },
  {
   "cell_type": "code",
   "execution_count": null,
   "id": "ca5c4bcd-e251-4b8e-b504-d71dbf1f09d1",
   "metadata": {},
   "outputs": [],
   "source": [
    "# What is the name of the config file that has been created after 2020-03-03 and is smaller than 28k but larger than 25k? \n",
    "\n",
    "#command used= find\n",
    "#options= -type f && -name .conf && -newermt 2020-03-03 && -size -28k && -size +25k && 2>/dev/null\n",
    "#full-command...\n",
    "find -type f -name .conf -newermt 2020-03-03 -size -28k -size +25k 2>/dev/null\n",
    "\n",
    "#answer= 00-mesa-defaults.conf"
   ]
  },
  {
   "cell_type": "code",
   "execution_count": null,
   "id": "146b7a6d-6352-46ed-abba-93acf03838c0",
   "metadata": {},
   "outputs": [],
   "source": [
    "# How many files exist on the system that have the \".bak\" extension?\n",
    "\n",
    "#commands used= find && [nl (or) wc -l] \n",
    "#options= -tpe f && -name .bak && 2>/dev/null\n",
    "#full-command...\n",
    "find -type f -name .bak 2>/dev/null | wc -l #or\n",
    "find -type f -name .bak 2>/dev/null | nl\n",
    "\n",
    "#answer= 4"
   ]
  },
  {
   "cell_type": "code",
   "execution_count": null,
   "id": "6ab2f02b-59ac-433c-a536-983d0ee0236d",
   "metadata": {},
   "outputs": [],
   "source": [
    "# Submit the full path of the \"xxd\" binary.\n",
    "\n",
    "#command used= which\n",
    "#full-command...\n",
    "which xxd\n",
    "\n",
    "#answer= /usr/bin/xxd"
   ]
  },
  {
   "cell_type": "markdown",
   "id": "49b2ea09-8c8a-4677-9930-e8bd609c7411",
   "metadata": {},
   "source": [
    "PRACTICE 5"
   ]
  },
  {
   "cell_type": "code",
   "execution_count": null,
   "id": "8886ff79-ac9f-4d77-9623-b1f74f07cf5e",
   "metadata": {},
   "outputs": [],
   "source": [
    "# How many files exist on the system that have the \".log\" file extension? \n",
    "\n",
    "#commands used= find && [nl (or) wc -l] \n",
    "#options= -tpe f && -name .log && 2>/dev/null\n",
    "#full-command...\n",
    "find -type f -name .log 2>/dev/null | wc -l #or\n",
    "find -type f -name .log 2>/dev/null | nl\n",
    "\n",
    "#answer= 32"
   ]
  },
  {
   "cell_type": "code",
   "execution_count": null,
   "id": "dc765b97-2b0a-4863-8309-acaededbe42d",
   "metadata": {},
   "outputs": [],
   "source": [
    "#  How many total packages are installed on the target system?\n",
    "\n",
    "#command used= apt list --installed\n",
    "#other command used= grep\n",
    "#option= -c\n",
    "#full-command...\n",
    "apt list --installed | grep -c 'installed'\n",
    "\n",
    "#answer= 737"
   ]
  },
  {
   "cell_type": "code",
   "execution_count": null,
   "id": "8a1b5215-9bd0-4778-8d07-dfbf8d3efdc1",
   "metadata": {},
   "outputs": [],
   "source": [
    "PRACTICE 6"
   ]
  },
  {
   "cell_type": "code",
   "execution_count": null,
   "id": "2782875a-e01c-4bf7-ac4b-1c8fb6d5cf14",
   "metadata": {},
   "outputs": [],
   "source": [
    "# How many services are listening on the target system on all interfaces? (Not on localhost and IPv4 only)\n",
    "\n",
    "#commandno.1 used= netstat\n",
    "#option= -ln4\n",
    "#commandno.2 used= grep\n",
    "#options= LISTEN && -v 127 (come to me if you want an explaination or email buru.star.123@gmail.com)\n",
    "#commandno.3= nl [or] wc -l\n",
    "#full-command...\n",
    "netsat -ln4 | grep LISTEN | grep -v 127 | wc -l\n",
    "\n",
    "#answer= 7"
   ]
  },
  {
   "cell_type": "code",
   "execution_count": null,
   "id": "36bd9aa1-df2d-4192-9500-99323a2514e1",
   "metadata": {},
   "outputs": [],
   "source": [
    "#  Determine what user the ProFTPd server is running under. Submit the username as the answer.\n",
    "\n",
    "#command used= ps && grep\n",
    "#option= ax [or] aux\n",
    "#full-command...\n",
    "ps ax | grep proftpd #or\n",
    "ps aux | grep proftpd\n",
    "\n",
    "#answer= proftpd"
   ]
  },
  {
   "cell_type": "markdown",
   "id": "786a2cf7-3601-43ee-bcb9-24bf05ee30ef",
   "metadata": {},
   "source": [
    "PRACTICE 7"
   ]
  },
  {
   "cell_type": "code",
   "execution_count": null,
   "id": "f7f72837-bab5-45a2-9f1e-b60f093728cc",
   "metadata": {},
   "outputs": [],
   "source": [
    "# Which option needs to be set to create a home directory for a new user using \"useradd\" command? \n",
    "\n",
    "#answer= -m"
   ]
  },
  {
   "cell_type": "code",
   "execution_count": null,
   "id": "3b649b22-298c-4f45-a8ac-f7ca009bc8e5",
   "metadata": {},
   "outputs": [],
   "source": [
    "# Which option needs to be set to lock a user account using the \"usermod\" command? (long version of the option)\n",
    "\n",
    "#answer= --lock"
   ]
  },
  {
   "cell_type": "code",
   "execution_count": null,
   "id": "ae0205e5-cdf2-499c-8f78-384cf4c3cb89",
   "metadata": {},
   "outputs": [],
   "source": [
    "#  Which option needs to be set to execute a command as a different user using the \"su\" command? (long version of the option) \n",
    "\n",
    "#answer= --command"
   ]
  },
  {
   "cell_type": "markdown",
   "id": "b0008fa0-35c7-46bb-8b64-7b7406508e4d",
   "metadata": {},
   "source": [
    "PRACTICE 8"
   ]
  },
  {
   "cell_type": "code",
   "execution_count": null,
   "id": "c4923c6e-372e-4765-b6a7-a2ed8f01a92d",
   "metadata": {},
   "outputs": [],
   "source": [
    "# Use the \"systemctl\" command to list all units of services and submit the unit name with the description \"Load AppArmor profiles managed internally by snapd\" as the answer. \n",
    "\n",
    "#commands used= systemctl && grep\n",
    "#full-command...\n",
    "systemctl | grep 'Load AppArmor profiles managed internally by snapd'\n",
    "\n",
    "#answer= snapd.apparmor.service"
   ]
  },
  {
   "cell_type": "markdown",
   "id": "637a85b3-0562-40c0-ba77-c763a926ba2d",
   "metadata": {},
   "source": [
    "PRACTICE 9"
   ]
  },
  {
   "cell_type": "code",
   "execution_count": null,
   "id": "b3633fec-8257-494d-a834-ee8ee326a4a6",
   "metadata": {},
   "outputs": [],
   "source": [
    "# Find a way to start a simple HTTP server inside Pwnbox or your local VM using \"npm\". Submit the command that starts the web server on port 8080 (use the short argument to specify the port number).\n",
    "\n",
    "#command used= http-server\n",
    "#option= -p\n",
    "#full-command...\n",
    "http-server -p 8080\n",
    "\n",
    "#answer= http-server -p 8080"
   ]
  },
  {
   "cell_type": "code",
   "execution_count": null,
   "id": "2b128304-711e-4707-9733-2c4dddccae5e",
   "metadata": {},
   "outputs": [],
   "source": [
    "# Find a way to start a simple HTTP server inside Pwnbox or your local VM using \"php\". Submit the command that starts the web server on the localhost (127.0.0.1) on port 8080.\n",
    "\n",
    "#command used= php\n",
    "#option= -s\n",
    "#full-command...\n",
    "php -s 127.0.0.1:8080\n",
    "\n",
    "#answer= php -s 127.0.0.1:8080"
   ]
  },
  {
   "cell_type": "code",
   "execution_count": null,
   "id": "5d720ae5-0e6d-4287-8317-6a134c85562c",
   "metadata": {},
   "outputs": [],
   "source": [
    "THANK YOU FOR VIEWING 🙂🙂🙂 "
   ]
  }
 ],
 "metadata": {
  "kernelspec": {
   "display_name": "Python 3 (ipykernel)",
   "language": "python",
   "name": "python3"
  },
  "language_info": {
   "codemirror_mode": {
    "name": "ipython",
    "version": 3
   },
   "file_extension": ".py",
   "mimetype": "text/x-python",
   "name": "python",
   "nbconvert_exporter": "python",
   "pygments_lexer": "ipython3",
   "version": "3.11.7"
  }
 },
 "nbformat": 4,
 "nbformat_minor": 5
}
